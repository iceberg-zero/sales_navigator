{
 "cells": [
  {
   "cell_type": "code",
   "execution_count": 2,
   "metadata": {},
   "outputs": [],
   "source": [
    "import requests\n",
    "import re\n",
    "import urllib3\n",
    "import csv\n",
    "import time\n",
    "urllib3.disable_warnings(urllib3.exceptions.InsecureRequestWarning)\n",
    "\n",
    "from clean_url "
   ]
  },
  {
   "cell_type": "code",
   "execution_count": 3,
   "metadata": {},
   "outputs": [
    {
     "name": "stdout",
     "output_type": "stream",
     "text": [
      "in request i = 75\n"
     ]
    }
   ],
   "source": [
    "session = '4093226191029834232'\n",
    "Cookie_user = 'AQEDAQuoAOQFF6zCAAABhXQ5gM4AAAGFmEYEzk4ALaCsGg97kWkQTCji8URf_gNn7iakpgTbHAWiMSjKkDi8ragEwl6Ro2ywh7OwIcOqoh-N8Ge0uRZrmKGKvvWKifG5oBNAux__SGB8MfughdihEInZ'\n",
    "Cookie_password = 'AQJ2PTEmc2FsZXNfY2lkPTExNjMyNTk2MDclM0ElM0E0NjIxOTExMDeLcxddVnMr952nc8ybkTArQ9Qwiw'\n",
    "\n",
    "i=75\n",
    "while i <=1200:\n",
    "    cookies = {\n",
    "        'JSESSIONID': f'\"ajax:{session}\"',\n",
    "        'liap': 'true',\n",
    "        'li_at': Cookie_user,\n",
    "        'li_a': Cookie_password,\n",
    "        'lang': 'v=2&lang=es-es',\n",
    "    }\n",
    "\n",
    "    params={\n",
    "            \"q\": \"savedSearchId\",\n",
    "            \"start\": i,\n",
    "            \"count\": \"25\",\n",
    "            \"savedSearchId\": \"50571251\",\n",
    "            \"decorationId\": \"com.linkedin.sales.deco.desktop.searchv2.LeadSearchResult-9\",\n",
    "    }\n",
    "\n",
    "    headers = {\n",
    "        'sec-ch-ua': '\"Not?A_Brand\";v=\"8\", \"Chromium\";v=\"108\", \"Google Chrome\";v=\"108\"',\n",
    "        'x-li-lang': 'es_ES',\n",
    "        'sec-ch-ua-mobile': '?0',\n",
    "        'User-Agent': 'Mozilla/5.0 (Macintosh; Intel Mac OS X 10_15_7) AppleWebKit/537.36 (KHTML, like Gecko) Chrome/108.0.0.0 Safari/537.36',\n",
    "        'x-li-page-instance': 'urn:li:page:d_sales2_search_people_saved_all;ikwPoSXoQRuckSpkIxPUVQ==',\n",
    "        'csrf-token': f'ajax:{session}',\n",
    "        'x-restli-protocol-version': '2.0.0',\n",
    "        'sec-ch-ua-platform': '\"macOS\"',\n",
    "        'Accept': '*/*',\n",
    "        'Sec-Fetch-Site': 'same-origin',\n",
    "        'Sec-Fetch-Mode': 'cors',\n",
    "        'Sec-Fetch-Dest': 'empty',\n",
    "        'Accept-Language': 'en-US,en;q=0.9',\n",
    "        'Host': 'www.linkedin.com',\n",
    "        'Connection': 'close',\n",
    "    }\n",
    "\n",
    "    response = requests.get(\n",
    "        'https://www.linkedin.com/sales-api/salesApiLeadSearch',\n",
    "        cookies=cookies,\n",
    "        headers=headers,\n",
    "        params=params,\n",
    "        verify=False\n",
    "    )\n",
    "    response.json()\n",
    "    # %%\n",
    "    elements=response.json()['elements']\n",
    "    profile_data=[]\n",
    "    for profile in elements:\n",
    "        profile_data+=[{'entityUrn' : profile['entityUrn']\n",
    "        }]\n",
    "    data_search = []\n",
    "    for profile_data in profile_data:\n",
    "        id=profile_data['entityUrn']\n",
    "        data_search.append([\"https://www.linkedin.com/in/\"+re.search(r'\\((.*?),', id).group(1), i])\n",
    "    with open('linkedin_profile.csv', 'a') as f_object:\n",
    "        writer_object = csv.writer(f_object)\n",
    "        writer_object.writerows(data_search)\n",
    "        f_object.close()\n",
    "    print(f\"in request i = {i}\")\n",
    "    time.sleep(30)\n",
    "    i+=25"
   ]
  },
  {
   "cell_type": "code",
   "execution_count": null,
   "metadata": {},
   "outputs": [],
   "source": []
  }
 ],
 "metadata": {
  "kernelspec": {
   "display_name": "Python 3.8.9 64-bit",
   "language": "python",
   "name": "python3"
  },
  "language_info": {
   "codemirror_mode": {
    "name": "ipython",
    "version": 3
   },
   "file_extension": ".py",
   "mimetype": "text/x-python",
   "name": "python",
   "nbconvert_exporter": "python",
   "pygments_lexer": "ipython3",
   "version": "3.8.9"
  },
  "orig_nbformat": 4,
  "vscode": {
   "interpreter": {
    "hash": "31f2aee4e71d21fbe5cf8b01ff0e069b9275f58929596ceb00d14d90e3e16cd6"
   }
  }
 },
 "nbformat": 4,
 "nbformat_minor": 2
}
