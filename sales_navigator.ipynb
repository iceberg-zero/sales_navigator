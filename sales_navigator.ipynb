{
 "cells": [
  {
   "cell_type": "code",
   "execution_count": 3,
   "metadata": {},
   "outputs": [],
   "source": [
    "import requests\n",
    "import re\n",
    "import urllib3\n",
    "import csv\n",
    "import time\n",
    "import pandas as pd\n",
    "from bs4 import BeautifulSoup\n",
    "import re, json, csv, time, random\n",
    "from urllib.parse import urlparse, parse_qs\n",
    "\n",
    "urllib3.disable_warnings(urllib3.exceptions.InsecureRequestWarning)\n"
   ]
  },
  {
   "cell_type": "code",
   "execution_count": null,
   "metadata": {},
   "outputs": [],
   "source": []
  },
  {
   "attachments": {},
   "cell_type": "markdown",
   "metadata": {},
   "source": [
    "**Get url from salesnavigator**\n"
   ]
  },
  {
   "cell_type": "code",
   "execution_count": 6,
   "metadata": {},
   "outputs": [
    {
     "name": "stdout",
     "output_type": "stream",
     "text": [
      "1 dict_keys(['metadata', 'elements', 'paging'])\n",
      "in request i = 1\n",
      "26 dict_keys(['metadata', 'elements', 'paging'])\n",
      "in request i = 26\n",
      "51 dict_keys(['metadata', 'elements', 'paging'])\n",
      "in request i = 51\n",
      "76 dict_keys(['metadata', 'elements', 'paging'])\n",
      "in request i = 76\n"
     ]
    }
   ],
   "source": [
    "session = '8585670718595733493'\n",
    "at = 'AQEDAQuoAOQEd1Q0AAABhXStgN0AAAGFmLoE3U4Ahvg7TOKhV9g_z8PtrKN0zeaBR5HVuzeQmIYjR-F0yPnPQTuJe1DrQGB-H7Zj5O8uILSb-km9sK0bBsJ9WFbIV8Fq4-tIGqyUC63GgtbC8yOD7ZU0'\n",
    "a = 'AQJ2PTEmc2FsZXNfY2lkPTExNjMyNTk2MDclM0ElM0E0NjIxOTExMDcVXy3ZmQFEg26YDcnGuU1Ee3JQ5g'\n",
    "\n",
    "i=1\n",
    "while i <=100:\n",
    "    cookies = {\n",
    "        'JSESSIONID': f'\"ajax:{session}\"',\n",
    "        'liap': 'true',\n",
    "        'li_at': at,\n",
    "        'li_a': a,\n",
    "        'lang': 'v=2&lang=es-es',\n",
    "    }\n",
    "\n",
    "    params={\n",
    "            \"q\": \"savedSearchId\",\n",
    "            \"start\": i,\n",
    "            \"count\": \"25\",\n",
    "            \"savedSearchId\": \"50571251\",\n",
    "            \"decorationId\": \"com.linkedin.sales.deco.desktop.searchv2.LeadSearchResult-9\",\n",
    "    }\n",
    "\n",
    "    headers = {\n",
    "        'sec-ch-ua': '\"Not?A_Brand\";v=\"8\", \"Chromium\";v=\"108\", \"Google Chrome\";v=\"108\"',\n",
    "        'x-li-lang': 'es_ES',\n",
    "        'sec-ch-ua-mobile': '?0',\n",
    "        'User-Agent': 'Mozilla/5.0 (Macintosh; Intel Mac OS X 10_15_7) AppleWebKit/537.36 (KHTML, like Gecko) Chrome/108.0.0.0 Safari/537.36',\n",
    "        'x-li-page-instance': 'urn:li:page:d_sales2_search_people_saved_all;ikwPoSXoQRuckSpkIxPUVQ==',\n",
    "        'csrf-token': f'ajax:{session}',\n",
    "        'x-restli-protocol-version': '2.0.0',\n",
    "        'sec-ch-ua-platform': '\"macOS\"',\n",
    "        'Accept': '*/*',\n",
    "        'Sec-Fetch-Site': 'same-origin',\n",
    "        'Sec-Fetch-Mode': 'cors',\n",
    "        'Sec-Fetch-Dest': 'empty',\n",
    "        'Accept-Language': 'en-US,en;q=0.9',\n",
    "        'Host': 'www.linkedin.com',\n",
    "        'Connection': 'close',\n",
    "    }\n",
    "\n",
    "    response = requests.get(\n",
    "        'https://www.linkedin.com/sales-api/salesApiLeadSearch',\n",
    "        cookies=cookies,\n",
    "        headers=headers,\n",
    "        params=params,\n",
    "        verify=False\n",
    "    )\n",
    "    print(i,response.json().keys())\n",
    "    # %%\n",
    "    elements=response.json()['elements']\n",
    "    profile_data=[]\n",
    "    for profile in elements:\n",
    "        profile_data+=[{'entityUrn' : profile['entityUrn']\n",
    "        }]\n",
    "    data_search = []\n",
    "    for profile_data in profile_data:\n",
    "        id=profile_data['entityUrn']\n",
    "        data_search.append([\"https://www.linkedin.com/in/\"+re.search(r'\\((.*?),', id).group(1), i])\n",
    "    with open('linkedin_profile.csv', 'a') as f_object:\n",
    "        writer_object = csv.writer(f_object)\n",
    "        writer_object.writerows(data_search)\n",
    "        f_object.close()\n",
    "    print(f\"in request i = {i}\")\n",
    "    time.sleep(3)\n",
    "    i+=25"
   ]
  },
  {
   "attachments": {},
   "cell_type": "markdown",
   "metadata": {},
   "source": [
    "**Get publi Url from linkdin**\n"
   ]
  },
  {
   "cell_type": "code",
   "execution_count": 6,
   "metadata": {},
   "outputs": [
    {
     "ename": "TooManyRedirects",
     "evalue": "Exceeded 30 redirects.",
     "output_type": "error",
     "traceback": [
      "\u001b[0;31m---------------------------------------------------------------------------\u001b[0m",
      "\u001b[0;31mTooManyRedirects\u001b[0m                          Traceback (most recent call last)",
      "\u001b[1;32m/Users/dxz/codify_repos/codifycapital/sales_navigator/sales_navigator.ipynb Cell 6\u001b[0m in \u001b[0;36m<cell line: 58>\u001b[0;34m()\u001b[0m\n\u001b[1;32m     <a href='vscode-notebook-cell:/Users/dxz/codify_repos/codifycapital/sales_navigator/sales_navigator.ipynb#W2sZmlsZQ%3D%3D?line=56'>57</a>\u001b[0m i\u001b[39m=\u001b[39mstart_at\n\u001b[1;32m     <a href='vscode-notebook-cell:/Users/dxz/codify_repos/codifycapital/sales_navigator/sales_navigator.ipynb#W2sZmlsZQ%3D%3D?line=57'>58</a>\u001b[0m \u001b[39mfor\u001b[39;00m url \u001b[39min\u001b[39;00m input_url_list[start_at:]:\n\u001b[0;32m---> <a href='vscode-notebook-cell:/Users/dxz/codify_repos/codifycapital/sales_navigator/sales_navigator.ipynb#W2sZmlsZQ%3D%3D?line=58'>59</a>\u001b[0m     data_search\u001b[39m=\u001b[39mget_full_url(url)\n\u001b[1;32m     <a href='vscode-notebook-cell:/Users/dxz/codify_repos/codifycapital/sales_navigator/sales_navigator.ipynb#W2sZmlsZQ%3D%3D?line=59'>60</a>\u001b[0m     \u001b[39mwith\u001b[39;00m \u001b[39mopen\u001b[39m(\u001b[39m'\u001b[39m\u001b[39mlinkedin_profile_clean.csv\u001b[39m\u001b[39m'\u001b[39m, \u001b[39m'\u001b[39m\u001b[39ma\u001b[39m\u001b[39m'\u001b[39m) \u001b[39mas\u001b[39;00m f_object:\n\u001b[1;32m     <a href='vscode-notebook-cell:/Users/dxz/codify_repos/codifycapital/sales_navigator/sales_navigator.ipynb#W2sZmlsZQ%3D%3D?line=60'>61</a>\u001b[0m         writer_object \u001b[39m=\u001b[39m csv\u001b[39m.\u001b[39mwriter(f_object)\n",
      "\u001b[1;32m/Users/dxz/codify_repos/codifycapital/sales_navigator/sales_navigator.ipynb Cell 6\u001b[0m in \u001b[0;36mget_full_url\u001b[0;34m(input_url)\u001b[0m\n\u001b[1;32m     <a href='vscode-notebook-cell:/Users/dxz/codify_repos/codifycapital/sales_navigator/sales_navigator.ipynb#W2sZmlsZQ%3D%3D?line=16'>17</a>\u001b[0m headers \u001b[39m=\u001b[39m {\n\u001b[1;32m     <a href='vscode-notebook-cell:/Users/dxz/codify_repos/codifycapital/sales_navigator/sales_navigator.ipynb#W2sZmlsZQ%3D%3D?line=17'>18</a>\u001b[0m     \u001b[39m'\u001b[39m\u001b[39mHost\u001b[39m\u001b[39m'\u001b[39m: \u001b[39m'\u001b[39m\u001b[39mwww.linkedin.com\u001b[39m\u001b[39m'\u001b[39m,\n\u001b[1;32m     <a href='vscode-notebook-cell:/Users/dxz/codify_repos/codifycapital/sales_navigator/sales_navigator.ipynb#W2sZmlsZQ%3D%3D?line=18'>19</a>\u001b[0m     \u001b[39m'\u001b[39m\u001b[39mConnection\u001b[39m\u001b[39m'\u001b[39m: \u001b[39m'\u001b[39m\u001b[39mkeep-alive\u001b[39m\u001b[39m'\u001b[39m,\n\u001b[0;32m   (...)\u001b[0m\n\u001b[1;32m     <a href='vscode-notebook-cell:/Users/dxz/codify_repos/codifycapital/sales_navigator/sales_navigator.ipynb#W2sZmlsZQ%3D%3D?line=26'>27</a>\u001b[0m     \u001b[39m'\u001b[39m\u001b[39mAccept-Language\u001b[39m\u001b[39m'\u001b[39m: \u001b[39m'\u001b[39m\u001b[39men-US,en;q=0.9\u001b[39m\u001b[39m'\u001b[39m,\n\u001b[1;32m     <a href='vscode-notebook-cell:/Users/dxz/codify_repos/codifycapital/sales_navigator/sales_navigator.ipynb#W2sZmlsZQ%3D%3D?line=27'>28</a>\u001b[0m }\n\u001b[1;32m     <a href='vscode-notebook-cell:/Users/dxz/codify_repos/codifycapital/sales_navigator/sales_navigator.ipynb#W2sZmlsZQ%3D%3D?line=29'>30</a>\u001b[0m \u001b[39m# input_url = 'https://www.linkedin.com/in/ACwAAAQML5wBUcrTsc3b449Jy7x8SP6O-Fed3ok'\u001b[39;00m\n\u001b[0;32m---> <a href='vscode-notebook-cell:/Users/dxz/codify_repos/codifycapital/sales_navigator/sales_navigator.ipynb#W2sZmlsZQ%3D%3D?line=30'>31</a>\u001b[0m response \u001b[39m=\u001b[39m requests\u001b[39m.\u001b[39;49mget(\n\u001b[1;32m     <a href='vscode-notebook-cell:/Users/dxz/codify_repos/codifycapital/sales_navigator/sales_navigator.ipynb#W2sZmlsZQ%3D%3D?line=31'>32</a>\u001b[0m     input_url,\n\u001b[1;32m     <a href='vscode-notebook-cell:/Users/dxz/codify_repos/codifycapital/sales_navigator/sales_navigator.ipynb#W2sZmlsZQ%3D%3D?line=32'>33</a>\u001b[0m     cookies\u001b[39m=\u001b[39;49mcookies,\n\u001b[1;32m     <a href='vscode-notebook-cell:/Users/dxz/codify_repos/codifycapital/sales_navigator/sales_navigator.ipynb#W2sZmlsZQ%3D%3D?line=33'>34</a>\u001b[0m     headers\u001b[39m=\u001b[39;49mheaders,\n\u001b[1;32m     <a href='vscode-notebook-cell:/Users/dxz/codify_repos/codifycapital/sales_navigator/sales_navigator.ipynb#W2sZmlsZQ%3D%3D?line=34'>35</a>\u001b[0m     proxies\u001b[39m=\u001b[39;49mproxies,\n\u001b[1;32m     <a href='vscode-notebook-cell:/Users/dxz/codify_repos/codifycapital/sales_navigator/sales_navigator.ipynb#W2sZmlsZQ%3D%3D?line=35'>36</a>\u001b[0m     verify\u001b[39m=\u001b[39;49m\u001b[39mFalse\u001b[39;49;00m)\n\u001b[1;32m     <a href='vscode-notebook-cell:/Users/dxz/codify_repos/codifycapital/sales_navigator/sales_navigator.ipynb#W2sZmlsZQ%3D%3D?line=37'>38</a>\u001b[0m soup \u001b[39m=\u001b[39m response\u001b[39m.\u001b[39mtext\n\u001b[1;32m     <a href='vscode-notebook-cell:/Users/dxz/codify_repos/codifycapital/sales_navigator/sales_navigator.ipynb#W2sZmlsZQ%3D%3D?line=39'>40</a>\u001b[0m \u001b[39mwith\u001b[39;00m \u001b[39mopen\u001b[39m(\u001b[39m\"\u001b[39m\u001b[39moutput1.html\u001b[39m\u001b[39m\"\u001b[39m, \u001b[39m\"\u001b[39m\u001b[39mw\u001b[39m\u001b[39m\"\u001b[39m) \u001b[39mas\u001b[39;00m file:\n",
      "File \u001b[0;32m~/miniconda3/lib/python3.9/site-packages/requests/api.py:75\u001b[0m, in \u001b[0;36mget\u001b[0;34m(url, params, **kwargs)\u001b[0m\n\u001b[1;32m     64\u001b[0m \u001b[39mdef\u001b[39;00m \u001b[39mget\u001b[39m(url, params\u001b[39m=\u001b[39m\u001b[39mNone\u001b[39;00m, \u001b[39m*\u001b[39m\u001b[39m*\u001b[39mkwargs):\n\u001b[1;32m     65\u001b[0m     \u001b[39mr\u001b[39m\u001b[39m\"\"\"Sends a GET request.\u001b[39;00m\n\u001b[1;32m     66\u001b[0m \n\u001b[1;32m     67\u001b[0m \u001b[39m    :param url: URL for the new :class:`Request` object.\u001b[39;00m\n\u001b[0;32m   (...)\u001b[0m\n\u001b[1;32m     72\u001b[0m \u001b[39m    :rtype: requests.Response\u001b[39;00m\n\u001b[1;32m     73\u001b[0m \u001b[39m    \"\"\"\u001b[39;00m\n\u001b[0;32m---> 75\u001b[0m     \u001b[39mreturn\u001b[39;00m request(\u001b[39m'\u001b[39;49m\u001b[39mget\u001b[39;49m\u001b[39m'\u001b[39;49m, url, params\u001b[39m=\u001b[39;49mparams, \u001b[39m*\u001b[39;49m\u001b[39m*\u001b[39;49mkwargs)\n",
      "File \u001b[0;32m~/miniconda3/lib/python3.9/site-packages/requests/api.py:61\u001b[0m, in \u001b[0;36mrequest\u001b[0;34m(method, url, **kwargs)\u001b[0m\n\u001b[1;32m     57\u001b[0m \u001b[39m# By using the 'with' statement we are sure the session is closed, thus we\u001b[39;00m\n\u001b[1;32m     58\u001b[0m \u001b[39m# avoid leaving sockets open which can trigger a ResourceWarning in some\u001b[39;00m\n\u001b[1;32m     59\u001b[0m \u001b[39m# cases, and look like a memory leak in others.\u001b[39;00m\n\u001b[1;32m     60\u001b[0m \u001b[39mwith\u001b[39;00m sessions\u001b[39m.\u001b[39mSession() \u001b[39mas\u001b[39;00m session:\n\u001b[0;32m---> 61\u001b[0m     \u001b[39mreturn\u001b[39;00m session\u001b[39m.\u001b[39;49mrequest(method\u001b[39m=\u001b[39;49mmethod, url\u001b[39m=\u001b[39;49murl, \u001b[39m*\u001b[39;49m\u001b[39m*\u001b[39;49mkwargs)\n",
      "File \u001b[0;32m~/miniconda3/lib/python3.9/site-packages/requests/sessions.py:529\u001b[0m, in \u001b[0;36mSession.request\u001b[0;34m(self, method, url, params, data, headers, cookies, files, auth, timeout, allow_redirects, proxies, hooks, stream, verify, cert, json)\u001b[0m\n\u001b[1;32m    524\u001b[0m send_kwargs \u001b[39m=\u001b[39m {\n\u001b[1;32m    525\u001b[0m     \u001b[39m'\u001b[39m\u001b[39mtimeout\u001b[39m\u001b[39m'\u001b[39m: timeout,\n\u001b[1;32m    526\u001b[0m     \u001b[39m'\u001b[39m\u001b[39mallow_redirects\u001b[39m\u001b[39m'\u001b[39m: allow_redirects,\n\u001b[1;32m    527\u001b[0m }\n\u001b[1;32m    528\u001b[0m send_kwargs\u001b[39m.\u001b[39mupdate(settings)\n\u001b[0;32m--> 529\u001b[0m resp \u001b[39m=\u001b[39m \u001b[39mself\u001b[39;49m\u001b[39m.\u001b[39;49msend(prep, \u001b[39m*\u001b[39;49m\u001b[39m*\u001b[39;49msend_kwargs)\n\u001b[1;32m    531\u001b[0m \u001b[39mreturn\u001b[39;00m resp\n",
      "File \u001b[0;32m~/miniconda3/lib/python3.9/site-packages/requests/sessions.py:667\u001b[0m, in \u001b[0;36mSession.send\u001b[0;34m(self, request, **kwargs)\u001b[0m\n\u001b[1;32m    664\u001b[0m \u001b[39mif\u001b[39;00m allow_redirects:\n\u001b[1;32m    665\u001b[0m     \u001b[39m# Redirect resolving generator.\u001b[39;00m\n\u001b[1;32m    666\u001b[0m     gen \u001b[39m=\u001b[39m \u001b[39mself\u001b[39m\u001b[39m.\u001b[39mresolve_redirects(r, request, \u001b[39m*\u001b[39m\u001b[39m*\u001b[39mkwargs)\n\u001b[0;32m--> 667\u001b[0m     history \u001b[39m=\u001b[39m [resp \u001b[39mfor\u001b[39;00m resp \u001b[39min\u001b[39;00m gen]\n\u001b[1;32m    668\u001b[0m \u001b[39melse\u001b[39;00m:\n\u001b[1;32m    669\u001b[0m     history \u001b[39m=\u001b[39m []\n",
      "File \u001b[0;32m~/miniconda3/lib/python3.9/site-packages/requests/sessions.py:667\u001b[0m, in \u001b[0;36m<listcomp>\u001b[0;34m(.0)\u001b[0m\n\u001b[1;32m    664\u001b[0m \u001b[39mif\u001b[39;00m allow_redirects:\n\u001b[1;32m    665\u001b[0m     \u001b[39m# Redirect resolving generator.\u001b[39;00m\n\u001b[1;32m    666\u001b[0m     gen \u001b[39m=\u001b[39m \u001b[39mself\u001b[39m\u001b[39m.\u001b[39mresolve_redirects(r, request, \u001b[39m*\u001b[39m\u001b[39m*\u001b[39mkwargs)\n\u001b[0;32m--> 667\u001b[0m     history \u001b[39m=\u001b[39m [resp \u001b[39mfor\u001b[39;00m resp \u001b[39min\u001b[39;00m gen]\n\u001b[1;32m    668\u001b[0m \u001b[39melse\u001b[39;00m:\n\u001b[1;32m    669\u001b[0m     history \u001b[39m=\u001b[39m []\n",
      "File \u001b[0;32m~/miniconda3/lib/python3.9/site-packages/requests/sessions.py:166\u001b[0m, in \u001b[0;36mSessionRedirectMixin.resolve_redirects\u001b[0;34m(self, resp, req, stream, timeout, verify, cert, proxies, yield_requests, **adapter_kwargs)\u001b[0m\n\u001b[1;32m    163\u001b[0m     resp\u001b[39m.\u001b[39mraw\u001b[39m.\u001b[39mread(decode_content\u001b[39m=\u001b[39m\u001b[39mFalse\u001b[39;00m)\n\u001b[1;32m    165\u001b[0m \u001b[39mif\u001b[39;00m \u001b[39mlen\u001b[39m(resp\u001b[39m.\u001b[39mhistory) \u001b[39m>\u001b[39m\u001b[39m=\u001b[39m \u001b[39mself\u001b[39m\u001b[39m.\u001b[39mmax_redirects:\n\u001b[0;32m--> 166\u001b[0m     \u001b[39mraise\u001b[39;00m TooManyRedirects(\u001b[39m'\u001b[39m\u001b[39mExceeded \u001b[39m\u001b[39m{}\u001b[39;00m\u001b[39m redirects.\u001b[39m\u001b[39m'\u001b[39m\u001b[39m.\u001b[39mformat(\u001b[39mself\u001b[39m\u001b[39m.\u001b[39mmax_redirects), response\u001b[39m=\u001b[39mresp)\n\u001b[1;32m    168\u001b[0m \u001b[39m# Release the connection back into the pool.\u001b[39;00m\n\u001b[1;32m    169\u001b[0m resp\u001b[39m.\u001b[39mclose()\n",
      "\u001b[0;31mTooManyRedirects\u001b[0m: Exceeded 30 redirects."
     ]
    }
   ],
   "source": [
    "#%%\n",
    "\n",
    "\n",
    "start_at = 884\n",
    "\n",
    "def get_full_url(input_url):\n",
    "\n",
    "    proxies = {\n",
    "            'http': 'http://localhost:9090',\n",
    "            'https': 'http://localhost:9090',\n",
    "        }\n",
    "\n",
    "    cookies = {\n",
    "        'li_at': 'AQEDAQuoAOQACCMaAAABhXUbMH4AAAGFmSe0fk4AMO3VM32CYoSL2BsfPMALfM5-BBo902AeClLi9JttqzKcW8anZkgdQCB-He0R5c5-T2vZoplWLyPQTTu0-rTD0Xi50O0PpExVYNNBRj0JTf45Ix1m',\n",
    "    }\n",
    "\n",
    "    headers = {\n",
    "        'Host': 'www.linkedin.com',\n",
    "        'Connection': 'keep-alive',\n",
    "        'Upgrade-Insecure-Requests': '1',\n",
    "        'User-Agent': 'Mozilla/5.0 (Macintosh; Intel Mac OS X 10_15_7) AppleWebKit/537.36 (KHTML, like Gecko) Chrome/108.0.0.0 Safari/537.36',\n",
    "        'Accept': 'text/html,application/xhtml+xml,application/xml;q=0.9,image/avif,image/webp,image/apng,*/*;q=0.8,application/signed-exchange;v=b3;q=0.9',\n",
    "        'Sec-Fetch-Site': 'none',\n",
    "        'Sec-Fetch-Mode': 'navigate',\n",
    "        'Sec-Fetch-User': '?1',\n",
    "        'Sec-Fetch-Dest': 'document',\n",
    "        'Accept-Language': 'en-US,en;q=0.9',\n",
    "    }\n",
    "\n",
    "    # input_url = 'https://www.linkedin.com/in/ACwAAAQML5wBUcrTsc3b449Jy7x8SP6O-Fed3ok'\n",
    "    response = requests.get(\n",
    "        input_url,\n",
    "        cookies=cookies,\n",
    "        headers=headers,\n",
    "        proxies=proxies,\n",
    "        verify=False)\n",
    "\n",
    "    soup = response.text\n",
    "\n",
    "    with open(\"output1.html\", \"w\") as file:\n",
    "        file.write(str(soup))\n",
    "\n",
    "    soup_ = BeautifulSoup(soup)\n",
    "    json_code=json.loads(soup_.findAll('code', id=re.compile('^datalet-bpr-guid-'))[-1].text)\n",
    "    json_code['request']\n",
    "\n",
    "    parse_result = urlparse(json_code['request'])\n",
    "    dict_result = parse_qs(parse_result.query)\n",
    "    lk_id = dict_result['memberIdentity'][0]\n",
    "    return lk_id\n",
    "\n",
    "#%%\n",
    "\n",
    "df = pd.read_csv('linkedin_profile.csv',)\n",
    "input_url_list=df['url'].values\n",
    "\n",
    "i=start_at\n",
    "for url in input_url_list[start_at:]:\n",
    "    data_search=get_full_url(url)\n",
    "    with open('linkedin_profile_clean.csv', 'a') as f_object:\n",
    "        writer_object = csv.writer(f_object)\n",
    "        writer_object.writerow([data_search])\n",
    "        f_object.close()\n",
    "    i=i+1\n",
    "    print(f\"in request i = {i}\")\n",
    "    time.sleep(random.randrange(1,1000)/1000)"
   ]
  }
 ],
 "metadata": {
  "kernelspec": {
   "display_name": "Python 3.9.12 ('base')",
   "language": "python",
   "name": "python3"
  },
  "language_info": {
   "codemirror_mode": {
    "name": "ipython",
    "version": 3
   },
   "file_extension": ".py",
   "mimetype": "text/x-python",
   "name": "python",
   "nbconvert_exporter": "python",
   "pygments_lexer": "ipython3",
   "version": "3.9.12"
  },
  "orig_nbformat": 4,
  "vscode": {
   "interpreter": {
    "hash": "0da8579acf56d8dc415b9617ca38c371478bc9e796ed7788f92b254ef9655830"
   }
  }
 },
 "nbformat": 4,
 "nbformat_minor": 2
}
